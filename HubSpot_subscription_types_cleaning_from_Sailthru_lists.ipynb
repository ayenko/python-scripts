{
  "nbformat": 4,
  "nbformat_minor": 0,
  "metadata": {
    "colab": {
      "provenance": [],
      "include_colab_link": true
    },
    "kernelspec": {
      "name": "python3",
      "display_name": "Python 3"
    },
    "language_info": {
      "name": "python"
    }
  },
  "cells": [
    {
      "cell_type": "markdown",
      "metadata": {
        "id": "view-in-github",
        "colab_type": "text"
      },
      "source": [
        "<a href=\"https://colab.research.google.com/github/ayenko/sifted/blob/main/HubSpot_subscription_types_cleaning_from_Sailthru_lists.ipynb\" target=\"_parent\"><img src=\"https://colab.research.google.com/assets/colab-badge.svg\" alt=\"Open In Colab\"/></a>"
      ]
    },
    {
      "cell_type": "markdown",
      "source": [
        "#Import Data"
      ],
      "metadata": {
        "id": "HnP5g_4D5Eys"
      }
    },
    {
      "cell_type": "code",
      "execution_count": null,
      "metadata": {
        "id": "STiAkQH_3nkB"
      },
      "outputs": [],
      "source": [
        "import pandas as pd\n",
        "import matplotlib.pyplot as plt\n",
        "import plotly.graph_objects as go\n",
        "import seaborn as sns"
      ]
    },
    {
      "cell_type": "code",
      "source": [
        "#change this to the name of the exported csv file with the necceary columns (Email, exid, Lists, first_name, last_name)\n",
        "file_path = '/content/Resubscribes 1 Nov.csv'"
      ],
      "metadata": {
        "id": "yNLIVHmx50br"
      },
      "execution_count": null,
      "outputs": []
    },
    {
      "cell_type": "code",
      "source": [
        "# Read the CSV file into a pandas DataFrame\n",
        "df = pd.read_csv(file_path, encoding='utf-8')"
      ],
      "metadata": {
        "id": "u01FDze3534m"
      },
      "execution_count": null,
      "outputs": []
    },
    {
      "cell_type": "code",
      "source": [
        "# Function to check if a string is present in the Lists column\n",
        "def check_list(lists, keyword):\n",
        "    if keyword in lists:\n",
        "        return \"checked\"\n",
        "    else:\n",
        "        return \"\""
      ],
      "metadata": {
        "id": "k6x9_iWB92tn"
      },
      "execution_count": null,
      "outputs": []
    },
    {
      "cell_type": "code",
      "source": [
        "# Add new columns based on the logic provided\n",
        "df[\"Piano - Sifted Marketing Updates\"] = df[\"Lists\"].apply(lambda x: check_list(x, \"would-like-event-newsletter\"))\n",
        "df[\"Piano - The Sifted Newsletter\"] = df[\"Lists\"].apply(lambda x: check_list(x, \"wants_main_newsletter\"))\n",
        "df[\"Piano - Startup Life Newsletter\"] = df[\"Lists\"].apply(lambda x: check_list(x, \"would-like-startup-life-newsletter\"))\n",
        "df[\"Piano - Fintech Newsletter\"] = df[\"Lists\"].apply(lambda x: check_list(x, \"would-like-fintech-newsletter\"))\n",
        "df[\"Piano - Climate Tech Newsletter\"] = df[\"Lists\"].apply(lambda x: check_list(x, \"would-like-sustainability-newsletter\"))\n",
        "df[\"Piano - Up Round Newsletter\"] = df[\"Lists\"].apply(lambda x: check_list(x, \"would-like-futureproof-newsletter\"))\n",
        "df[\"Piano - Pro Updates\"] = df[\"Lists\"].apply(lambda x: check_list(x, \"Pro Members: Newsletter Send\"))\n",
        "df[\"Piano - Event sponsorship opportunities\"] = df[\"Lists\"].apply(lambda x: check_list(x, \"Events sponsorship interest\"))\n",
        "df[\"Piano - Sifted Events\"] = df[\"Lists\"].apply(lambda x: check_list(x, \"Sifted Events\"))"
      ],
      "metadata": {
        "id": "dzwRwAHS95h3"
      },
      "execution_count": null,
      "outputs": []
    },
    {
      "cell_type": "code",
      "source": [
        "# Save the updated DataFrame to a new CSV file\n",
        "df.to_csv(\"Resubscribes 1 Nov - updated.csv\", index=False)"
      ],
      "metadata": {
        "id": "Cmie6eM7-F_G"
      },
      "execution_count": null,
      "outputs": []
    }
  ]
}